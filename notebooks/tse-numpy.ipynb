{
 "cells": [
  {
   "cell_type": "code",
   "execution_count": 13,
   "metadata": {},
   "outputs": [],
   "source": [
    "import urllib.request\n",
    "import pandas as pd\n",
    "import numpy as np\n",
    "\n",
    "url = \"https://tinyurl.com/tse-customers\"\n",
    "filename = \"customers.csv\"\n",
    "\n",
    "urllib.request.urlretrieve(url, filename)\n",
    "data = pd.read_csv(filename)"
   ]
  },
  {
   "cell_type": "code",
   "execution_count": 14,
   "metadata": {},
   "outputs": [
    {
     "name": "stdout",
     "output_type": "stream",
     "text": [
      "Average Age: 51.77562\n"
     ]
    }
   ],
   "source": [
    "average_age = np.mean(data['Age'])\n",
    "print(\"Average Age:\", average_age)"
   ]
  },
  {
   "cell_type": "code",
   "execution_count": 15,
   "metadata": {},
   "outputs": [
    {
     "name": "stdout",
     "output_type": "stream",
     "text": [
      "Male Customers:  49708\n",
      "Female Customers:  50292\n",
      "Nonbinary Customers:  0\n"
     ]
    }
   ],
   "source": [
    "male_count = np.sum(data['Gender'] == 'Male')\n",
    "female_count = np.sum(data['Gender'] == 'Female')\n",
    "nonbinary_count = np.sum((data['Gender']!= 'Male') & (data['Gender'] != 'Female'))\n",
    "print(\"Male Customers: \", male_count)\n",
    "print(\"Female Customers: \", female_count)\n",
    "print(\"Nonbinary Customers: \", nonbinary_count)"
   ]
  },
  {
   "cell_type": "code",
   "execution_count": 16,
   "metadata": {},
   "outputs": [
    {
     "name": "stdout",
     "output_type": "stream",
     "text": [
      "Maximum Socks Owned: 20\n"
     ]
    }
   ],
   "source": [
    "max_socks_owned = np.max(data['Socks_Owned'])\n",
    "print(\"Maximum Socks Owned:\", max_socks_owned)"
   ]
  },
  {
   "cell_type": "code",
   "execution_count": 17,
   "metadata": {},
   "outputs": [
    {
     "name": "stdout",
     "output_type": "stream",
     "text": [
      "Percentage of Frequent Losers:  1.2919999999999998 %\n"
     ]
    }
   ],
   "source": [
    "percentage_frequent_losers = np.mean(data['Frequent_Losers']) * 100\n",
    "print(\"Percentage of Frequent Losers: \", percentage_frequent_losers, \"%\")"
   ]
  },
  {
   "cell_type": "code",
   "execution_count": 18,
   "metadata": {},
   "outputs": [
    {
     "name": "stdout",
     "output_type": "stream",
     "text": [
      "Customers with High Income:  38276\n"
     ]
    }
   ],
   "source": [
    "income_threshold = 100_000\n",
    "high_income_customers = data[data['Income'] > income_threshold]\n",
    "print(\"Customers with High Income: \", high_income_customers.shape[0])"
   ]
  },
  {
   "cell_type": "code",
   "execution_count": 19,
   "metadata": {},
   "outputs": [
    {
     "name": "stdout",
     "output_type": "stream",
     "text": [
      "Austin : 4981\n",
      "Charlotte : 4999\n",
      "Chicago : 5037\n",
      "Columbus : 4887\n",
      "Dallas : 4972\n",
      "Denver : 5067\n",
      "Fort Worth : 4973\n",
      "Houston : 5043\n",
      "Indianapolis : 5073\n",
      "Jacksonville : 4880\n",
      "Los Angeles : 5060\n",
      "New York : 4997\n",
      "Philadelphia : 5014\n",
      "Phoenix : 5019\n",
      "San Antonio : 4999\n",
      "San Diego : 5073\n",
      "San Francisco : 5124\n",
      "San Jose : 4966\n",
      "Seattle : 4829\n",
      "Washington : 5007\n"
     ]
    }
   ],
   "source": [
    "city_locations, counts = np.unique(data['City_Location'], return_counts=True)\n",
    "for city, count in zip(city_locations, counts):\n",
    "    print(city, \":\", count)"
   ]
  },
  {
   "cell_type": "code",
   "execution_count": 20,
   "metadata": {},
   "outputs": [
    {
     "name": "stdout",
     "output_type": "stream",
     "text": [
      "Correlation Coefficient between Age and Income: 0.6382329563100815\n"
     ]
    }
   ],
   "source": [
    "correlation = np.corrcoef(data['Age'], data['Income'])[0, 1]\n",
    "print(\"Correlation Coefficient between Age and Income:\", correlation)"
   ]
  },
  {
   "cell_type": "code",
   "execution_count": 21,
   "metadata": {},
   "outputs": [
    {
     "name": "stdout",
     "output_type": "stream",
     "text": [
      "Standard Deviation of Socks Owned: 5.77694610013803\n"
     ]
    }
   ],
   "source": [
    "std_dev_socks_owned = np.std(data['Socks_Owned'])\n",
    "print(\"Standard Deviation of Socks Owned:\", std_dev_socks_owned)"
   ]
  }
 ],
 "metadata": {
  "kernelspec": {
   "display_name": "Python 3",
   "language": "python",
   "name": "python3"
  },
  "language_info": {
   "codemirror_mode": {
    "name": "ipython",
    "version": 3
   },
   "file_extension": ".py",
   "mimetype": "text/x-python",
   "name": "python",
   "nbconvert_exporter": "python",
   "pygments_lexer": "ipython3",
   "version": "3.12.3"
  }
 },
 "nbformat": 4,
 "nbformat_minor": 2
}
