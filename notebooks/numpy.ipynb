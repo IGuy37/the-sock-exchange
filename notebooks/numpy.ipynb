{
 "cells": [
  {
   "cell_type": "code",
   "execution_count": 3,
   "metadata": {},
   "outputs": [
    {
     "name": "stdout",
     "output_type": "stream",
     "text": [
      "<class 'list'>\n",
      "<class 'numpy.ndarray'>\n",
      "1D Array: [1 2 3 4 5]\n"
     ]
    }
   ],
   "source": [
    "import numpy as np\n",
    "\n",
    "# Create a 1D array\n",
    "python_list = [1,2,3,4,5]\n",
    "print(type(python_list))\n",
    "numpy_array = np.array(python_list)\n",
    "print(type(numpy_array))\n",
    "print(\"1D Array:\", numpy_array)"
   ]
  },
  {
   "cell_type": "code",
   "execution_count": 4,
   "metadata": {},
   "outputs": [
    {
     "name": "stdout",
     "output_type": "stream",
     "text": [
      "2D Array:\n",
      " [[1 2 3]\n",
      " [4 5 6]\n",
      " [7 8 9]]\n"
     ]
    }
   ],
   "source": [
    "# Create a 2D array\n",
    "python_list = [[1,2,3], [4,5,6], [7,8,9]]\n",
    "numpy_array = np.array(python_list)\n",
    "print(\"2D Array:\\n\", numpy_array)"
   ]
  },
  {
   "cell_type": "code",
   "execution_count": 5,
   "metadata": {},
   "outputs": [
    {
     "name": "stdout",
     "output_type": "stream",
     "text": [
      "Array Addition: [5 7 9]\n"
     ]
    }
   ],
   "source": [
    "# Element-wise addition\n",
    "arr1 = np.array([1, 2, 3])\n",
    "arr2 = np.array([4, 5, 6])\n",
    "result = arr1 + arr2\n",
    "print(\"Array Addition:\", result)"
   ]
  },
  {
   "cell_type": "code",
   "execution_count": 6,
   "metadata": {},
   "outputs": [
    {
     "name": "stdout",
     "output_type": "stream",
     "text": [
      "Reshaped 2D Array:\n",
      " [[1 2 3]\n",
      " [4 5 6]]\n"
     ]
    }
   ],
   "source": [
    "# Reshaping a 1D array into a 2D array\n",
    "arr_1d = np.array([1, 2, 3, 4, 5, 6])\n",
    "arr_2d = arr_1d.reshape(2, 3)\n",
    "print(\"Reshaped 2D Array:\\n\", arr_2d)"
   ]
  },
  {
   "cell_type": "code",
   "execution_count": 7,
   "metadata": {},
   "outputs": [
    {
     "name": "stdout",
     "output_type": "stream",
     "text": [
      "[[1 2 3]\n",
      " [4 5 6]\n",
      " [7 8 9]]\n",
      "Element at row 1, column 2: 6\n"
     ]
    }
   ],
   "source": [
    "# Indexing a 2D array\n",
    "arr_2d = np.array([[1, 2, 3], [4, 5, 6], [7, 8, 9]])\n",
    "print(arr_2d)\n",
    "print(\"Element at row 1, column 2:\", arr_2d[1, 2])"
   ]
  },
  {
   "cell_type": "code",
   "execution_count": 8,
   "metadata": {},
   "outputs": [
    {
     "name": "stdout",
     "output_type": "stream",
     "text": [
      "Random 2D Array:\n",
      " [[0.63407277 0.52860243 0.13213704]\n",
      " [0.65599105 0.57521794 0.06477878]]\n"
     ]
    }
   ],
   "source": [
    "# Create a 2D array with random values\n",
    "arr = np.random.rand(2, 3)\n",
    "print(\"Random 2D Array:\\n\", arr)"
   ]
  },
  {
   "cell_type": "code",
   "execution_count": 9,
   "metadata": {},
   "outputs": [
    {
     "name": "stdout",
     "output_type": "stream",
     "text": [
      "Zeros 2D Array:\n",
      " [[0. 0. 0.]\n",
      " [0. 0. 0.]]\n"
     ]
    }
   ],
   "source": [
    "# Create a 2D array with zeros\n",
    "arr = np.zeros((2, 3))\n",
    "print(\"Zeros 2D Array:\\n\", arr)"
   ]
  },
  {
   "cell_type": "code",
   "execution_count": 10,
   "metadata": {},
   "outputs": [
    {
     "name": "stdout",
     "output_type": "stream",
     "text": [
      "Specific Value 2D Array:\n",
      " [[5 5 5]\n",
      " [5 5 5]]\n"
     ]
    }
   ],
   "source": [
    "# Create a 2D array with a specific value\n",
    "arr = np.full((2, 3), 5)\n",
    "print(\"Specific Value 2D Array:\\n\", arr)"
   ]
  },
  {
   "cell_type": "code",
   "execution_count": 11,
   "metadata": {},
   "outputs": [
    {
     "name": "stdout",
     "output_type": "stream",
     "text": [
      "Concatenated Array: [1 2 3 4 5 6]\n"
     ]
    }
   ],
   "source": [
    "# Concatenating arrays\n",
    "arr1 = np.array([1, 2, 3])\n",
    "arr2 = np.array([4, 5, 6])\n",
    "result = np.concatenate((arr1, arr2))\n",
    "print(\"Concatenated Array:\", result)"
   ]
  },
  {
   "cell_type": "code",
   "execution_count": 12,
   "metadata": {},
   "outputs": [
    {
     "name": "stdout",
     "output_type": "stream",
     "text": [
      "Filtered Array: [4 5]\n"
     ]
    }
   ],
   "source": [
    "# Filtering elements based on a condition\n",
    "arr = np.array([1, 2, 3, 4, 5])\n",
    "condition = arr > 3\n",
    "filtered_array = arr[condition]\n",
    "print(\"Filtered Array:\", filtered_array)"
   ]
  },
  {
   "cell_type": "code",
   "execution_count": 13,
   "metadata": {},
   "outputs": [
    {
     "name": "stdout",
     "output_type": "stream",
     "text": [
      "Matrix Multiplication Result:\n",
      " [[19 22]\n",
      " [43 50]]\n"
     ]
    }
   ],
   "source": [
    "# Matrix multiplication\n",
    "# Result[0, 0] = (1*5) + (2*7) = 5 + 14 = 19\n",
    "# Result[0, 1] = (1*6) + (2*8) = 6 + 16 = 22\n",
    "# Result[1, 0] = (3*5) + (4*7) = 15 + 28 = 43\n",
    "# Result[1, 1] = (3*6) + (4*8) = 18 + 32 = 50\n",
    "\n",
    "matrix1 = np.array([[1, 2], [3, 4]])\n",
    "matrix2 = np.array([[5, 6], [7, 8]])\n",
    "result = np.dot(matrix1, matrix2)\n",
    "print(\"Matrix Multiplication Result:\\n\", result)"
   ]
  },
  {
   "cell_type": "code",
   "execution_count": 14,
   "metadata": {},
   "outputs": [
    {
     "name": "stdout",
     "output_type": "stream",
     "text": [
      "Sum of Elements: 15\n"
     ]
    }
   ],
   "source": [
    "# Calculate sum of elements\n",
    "arr = np.array([1, 2, 3, 4, 5])\n",
    "sum = np.sum(arr)\n",
    "print(\"Sum of Elements:\", sum)"
   ]
  },
  {
   "cell_type": "code",
   "execution_count": 15,
   "metadata": {},
   "outputs": [
    {
     "name": "stdout",
     "output_type": "stream",
     "text": [
      "Mean: 5.0 Standard Deviation: 3.03315017762062\n"
     ]
    }
   ],
   "source": [
    "# Calculating mean and standard deviation\n",
    "arr = np.array([1, 2, 6, 7, 9])\n",
    "mean = np.mean(arr)\n",
    "std_dev = np.std(arr)\n",
    "print(\"Mean:\", mean, \"Standard Deviation:\", std_dev)"
   ]
  },
  {
   "cell_type": "code",
   "execution_count": 16,
   "metadata": {},
   "outputs": [
    {
     "name": "stdout",
     "output_type": "stream",
     "text": [
      "Median: 6.0\n"
     ]
    }
   ],
   "source": [
    "# Calculate median\n",
    "arr = np.array([1, 2, 6, 7, 9])\n",
    "median = np.median(arr)\n",
    "print(\"Median:\", median)"
   ]
  },
  {
   "cell_type": "code",
   "execution_count": 17,
   "metadata": {},
   "outputs": [
    {
     "name": "stdout",
     "output_type": "stream",
     "text": [
      "Correlation Coefficient:\n",
      " -0.9999999999999999\n"
     ]
    }
   ],
   "source": [
    "# Calculate correlation coefficient\n",
    "arr1 = np.array([1, 2, 3, 4, 5])\n",
    "arr2 = np.array([5, 4, 3, 2, 1])\n",
    "correlation = np.corrcoef(arr1, arr2)\n",
    "print(\"Correlation Coefficient:\\n\", correlation[0,1])"
   ]
  },
  {
   "cell_type": "code",
   "execution_count": 18,
   "metadata": {},
   "outputs": [
    {
     "name": "stdout",
     "output_type": "stream",
     "text": [
      "50th Percentile (Median): 3.0\n"
     ]
    }
   ],
   "source": [
    "# Calculate 50th percentile (median)\n",
    "arr = np.array([1, 2, 3, 4, 5])\n",
    "percentile_50 = np.percentile(arr, 50)\n",
    "print(\"50th Percentile (Median):\", percentile_50)"
   ]
  },
  {
   "cell_type": "code",
   "execution_count": 19,
   "metadata": {},
   "outputs": [
    {
     "name": "stdout",
     "output_type": "stream",
     "text": [
      "Quartiles: [2. 3. 4.]\n"
     ]
    }
   ],
   "source": [
    "# Calculate quartiles\n",
    "arr = np.array([1, 2, 3, 4, 5])\n",
    "quartiles = np.percentile(arr, [25, 50, 75])\n",
    "print(\"Quartiles:\", quartiles)"
   ]
  },
  {
   "cell_type": "code",
   "execution_count": 20,
   "metadata": {},
   "outputs": [
    {
     "name": "stdout",
     "output_type": "stream",
     "text": [
      "Standard Error: 0.6324555320336759\n"
     ]
    }
   ],
   "source": [
    "# Calculate standard error\n",
    "arr = np.array([1, 2, 3, 4, 5])\n",
    "std_err = np.std(arr) / np.sqrt(len(arr))\n",
    "print(\"Standard Error:\", std_err)"
   ]
  },
  {
   "cell_type": "code",
   "execution_count": 21,
   "metadata": {},
   "outputs": [
    {
     "name": "stdout",
     "output_type": "stream",
     "text": [
      "Variance: 2.0\n"
     ]
    }
   ],
   "source": [
    "# Calculate variance\n",
    "arr = np.array([1, 2, 3, 4, 5])\n",
    "variance = np.var(arr)\n",
    "print(\"Variance:\", variance)"
   ]
  },
  {
   "cell_type": "code",
   "execution_count": 22,
   "metadata": {},
   "outputs": [
    {
     "name": "stdout",
     "output_type": "stream",
     "text": [
      "Covariance: -2.5\n"
     ]
    }
   ],
   "source": [
    "# Calculate covariance\n",
    "x = np.array([1, 2, 3, 4, 5])\n",
    "y = np.array([5, 4, 3, 2, 1])\n",
    "covariance = np.cov(x, y)[0, 1]\n",
    "print(\"Covariance:\", covariance)"
   ]
  }
 ],
 "metadata": {
  "kernelspec": {
   "display_name": "Python 3",
   "language": "python",
   "name": "python3"
  },
  "language_info": {
   "codemirror_mode": {
    "name": "ipython",
    "version": 3
   },
   "file_extension": ".py",
   "mimetype": "text/x-python",
   "name": "python",
   "nbconvert_exporter": "python",
   "pygments_lexer": "ipython3",
   "version": "3.12.3"
  }
 },
 "nbformat": 4,
 "nbformat_minor": 2
}
